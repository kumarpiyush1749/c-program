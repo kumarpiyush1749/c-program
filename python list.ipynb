{
  "nbformat": 4,
  "nbformat_minor": 0,
  "metadata": {
    "colab": {
      "name": "Untitled1.ipynb",
      "provenance": [],
      "authorship_tag": "ABX9TyO9yJzCeVp8XfJmyE98dH3a",
      "include_colab_link": true
    },
    "kernelspec": {
      "name": "python3",
      "display_name": "Python 3"
    },
    "language_info": {
      "name": "python"
    }
  },
  "cells": [
    {
      "cell_type": "markdown",
      "metadata": {
        "id": "view-in-github",
        "colab_type": "text"
      },
      "source": [
        "<a href=\"https://colab.research.google.com/github/kumarpiyush1749/c-program/blob/main/python%20list.ipynb\" target=\"_parent\"><img src=\"https://colab.research.google.com/assets/colab-badge.svg\" alt=\"Open In Colab\"/></a>"
      ]
    },
    {
      "cell_type": "code",
      "execution_count": 1,
      "metadata": {
        "colab": {
          "base_uri": "https://localhost:8080/"
        },
        "id": "PR0xUBANLio8",
        "outputId": "242b5285-1f56-4f2b-976d-e50cf5dca368"
      },
      "outputs": [
        {
          "output_type": "stream",
          "name": "stdout",
          "text": [
            "hello\n"
          ]
        }
      ],
      "source": [
        "print(\"hello\")"
      ]
    },
    {
      "cell_type": "code",
      "source": [
        "x=8+9\n",
        "print(x)"
      ],
      "metadata": {
        "colab": {
          "base_uri": "https://localhost:8080/"
        },
        "id": "6KDy4QWjOnRQ",
        "outputId": "e6125fb3-08d5-4d18-feb4-7252f604f4af"
      },
      "execution_count": 2,
      "outputs": [
        {
          "output_type": "stream",
          "name": "stdout",
          "text": [
            "17\n"
          ]
        }
      ]
    },
    {
      "cell_type": "code",
      "source": [
        "print(\"good\");"
      ],
      "metadata": {
        "colab": {
          "base_uri": "https://localhost:8080/"
        },
        "id": "p1vTZD44cptZ",
        "outputId": "f79f4310-c392-424b-ae21-36615571b42d"
      },
      "execution_count": 3,
      "outputs": [
        {
          "output_type": "stream",
          "name": "stdout",
          "text": [
            "good\n"
          ]
        }
      ]
    },
    {
      "cell_type": "code",
      "source": [
        "x=6+5\n",
        "print(x)\n",
        "y=9-6\n",
        "print(y)\n",
        "z=6*5\n",
        "print(z)\n",
        "p=6/2\n",
        "print(p)\n",
        "k=9//3\n",
        "print(k)"
      ],
      "metadata": {
        "colab": {
          "base_uri": "https://localhost:8080/"
        },
        "id": "QAsiToOnc7xg",
        "outputId": "ededbd3f-f5af-41a9-ab09-49c6366e4c55"
      },
      "execution_count": 4,
      "outputs": [
        {
          "output_type": "stream",
          "name": "stdout",
          "text": [
            "11\n",
            "3\n",
            "30\n",
            "3.0\n",
            "3\n"
          ]
        }
      ]
    },
    {
      "cell_type": "code",
      "source": [
        "b=6**2\n",
        "print(b)\n",
        "n=17%3\n",
        "print(n)\n",
        "m='deepali'\n",
        "print(m)\n",
        "p=\"hello\"\n",
        "print(p)\n",
        "h='deepali' + 'agarwal'\n",
        "print(h)\n",
        "u=4*'deepali'\n",
        "print(u)\n",
        "w=9.654\n",
        "print(type(w))"
      ],
      "metadata": {
        "colab": {
          "base_uri": "https://localhost:8080/"
        },
        "id": "PKc3545qeuG-",
        "outputId": "530be9cf-bba3-4288-8e48-2cea25ad3a29"
      },
      "execution_count": 7,
      "outputs": [
        {
          "output_type": "stream",
          "name": "stdout",
          "text": [
            "36\n",
            "2\n",
            "deepali\n",
            "hello\n",
            "deepaliagarwal\n",
            "deepalideepalideepalideepali\n",
            "<class 'float'>\n"
          ]
        }
      ]
    },
    {
      "cell_type": "code",
      "source": [
        "print('deepali \\n agarwal')"
      ],
      "metadata": {
        "colab": {
          "base_uri": "https://localhost:8080/"
        },
        "id": "bN73a1bbil3M",
        "outputId": "f9db3f5e-6671-4a26-dccd-2c70b1303a13"
      },
      "execution_count": 8,
      "outputs": [
        {
          "output_type": "stream",
          "name": "stdout",
          "text": [
            "deepali \n",
            " agarwal\n"
          ]
        }
      ]
    },
    {
      "cell_type": "code",
      "source": [
        "n=9\n",
        "print(id(n))\n",
        "m=7\n",
        "print(id(m))\n",
        "b=m\n",
        "print(id(b))\n",
        "p=7\n",
        "print(id(p))\n",
        "z=n\n",
        "print(id(z))"
      ],
      "metadata": {
        "colab": {
          "base_uri": "https://localhost:8080/"
        },
        "id": "VqeGxk83jKV6",
        "outputId": "5d8a61be-501a-4833-8bfc-a5d157827eed"
      },
      "execution_count": 10,
      "outputs": [
        {
          "output_type": "stream",
          "name": "stdout",
          "text": [
            "94579685841664\n",
            "94579685841600\n",
            "94579685841600\n",
            "94579685841600\n",
            "94579685841664\n"
          ]
        }
      ]
    },
    {
      "cell_type": "code",
      "source": [
        ""
      ],
      "metadata": {
        "id": "48zWhvE1kwjz"
      },
      "execution_count": null,
      "outputs": []
    },
    {
      "cell_type": "code",
      "source": [
        "b='good'\n",
        "print(b)\n",
        "c=b+'morning'\n",
        "print(c)\n",
        "print(b[-1])\n",
        "print(b[0])\n",
        "print(b[0:2])\n",
        "print(b[1:])\n",
        "print(b[:4])\n",
        "#string is immutable"
      ],
      "metadata": {
        "colab": {
          "base_uri": "https://localhost:8080/"
        },
        "id": "Q5jO3vUqkx6_",
        "outputId": "99b225f3-8d79-4115-b826-3394a8b32cc9"
      },
      "execution_count": 20,
      "outputs": [
        {
          "output_type": "stream",
          "name": "stdout",
          "text": [
            "good\n",
            "goodmorning\n",
            "d\n",
            "g\n",
            "go\n",
            "ood\n",
            "good\n"
          ]
        }
      ]
    },
    {
      "cell_type": "code",
      "source": [
        "b=['deepali','agarwal',10,4.5]\n",
        "print(b)\n",
        "print(b[0])\n",
        "print(b[1])\n",
        "print(b[1:])\n",
        "print(b[1:3])\n",
        "print(b[-3])\n",
        "d=[23,45,'deepika']\n",
        "print(d)\n",
        "c=[b,d]\n",
        "print(c)\n",
        "d.insert(2,'parul')\n",
        "print(d)\n",
        "b.remove(10)\n",
        "print(b)\n",
        "d.append(56)\n",
        "print(d)\n",
        "d.pop(2)\n",
        "print(d)\n",
        "d.pop()\n",
        "print(d)\n",
        "del b[1:2]\n",
        "print(b)\n",
        "b.extend([10,20,30,40,50])\n",
        "print(b)\n",
        "x=[10,40,50,70,5]\n",
        "e=max(x)\n",
        "print(e)\n",
        "print(min(x))\n",
        "print(sum(x))\n",
        "x.sort()\n",
        "print(x)"
      ],
      "metadata": {
        "colab": {
          "base_uri": "https://localhost:8080/"
        },
        "id": "bcs-_Mz6thkb",
        "outputId": "f2df6409-6ac4-4a77-f139-08a218076381"
      },
      "execution_count": 28,
      "outputs": [
        {
          "output_type": "stream",
          "name": "stdout",
          "text": [
            "['deepali', 'agarwal', 10, 4.5]\n",
            "deepali\n",
            "agarwal\n",
            "['agarwal', 10, 4.5]\n",
            "['agarwal', 10]\n",
            "agarwal\n",
            "[23, 45, 'deepika']\n",
            "[['deepali', 'agarwal', 10, 4.5], [23, 45, 'deepika']]\n",
            "[23, 45, 'parul', 'deepika']\n",
            "['deepali', 'agarwal', 4.5]\n",
            "[23, 45, 'parul', 'deepika', 56]\n",
            "[23, 45, 'deepika', 56]\n",
            "[23, 45, 'deepika']\n",
            "['deepali', 4.5]\n",
            "['deepali', 4.5, 10, 20, 30, 40, 50]\n",
            "70\n",
            "5\n",
            "175\n",
            "[5, 10, 40, 50, 70]\n"
          ]
        }
      ]
    }
  ]
}